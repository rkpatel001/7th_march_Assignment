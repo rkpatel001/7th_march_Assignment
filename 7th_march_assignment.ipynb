{
 "cells": [
  {
   "cell_type": "markdown",
   "id": "b8c3cd2f-476d-4610-88e2-68ed67a26bbc",
   "metadata": {},
   "source": [
    "Q1. What are the three measures of central tendency?"
   ]
  },
  {
   "cell_type": "code",
   "execution_count": null,
   "id": "16fe2641-aa71-41f6-aec8-b8b197131094",
   "metadata": {},
   "outputs": [],
   "source": [
    "mean \n",
    "median\n",
    "mode"
   ]
  },
  {
   "cell_type": "markdown",
   "id": "633ea62f-7343-4c57-b9ab-7330b3d8a797",
   "metadata": {},
   "source": [
    "Q2. What is the difference between the mean, median, and mode? How are they used to measure the\n",
    "central tendency of a dataset?"
   ]
  },
  {
   "cell_type": "code",
   "execution_count": null,
   "id": "5df16ce8-9185-43b1-8315-37e70e123548",
   "metadata": {},
   "outputs": [],
   "source": [
    "mean : we can say average of data\n",
    "\n",
    "median : middle value of when you arrange data set in assending order \n",
    "\n",
    "mode : it show to frequency of data how many time same data is repeat"
   ]
  },
  {
   "cell_type": "markdown",
   "id": "e6ced0a5-1932-4053-b9f4-b5a6ec2d1d94",
   "metadata": {},
   "source": [
    "Q3. Measure the three measures of central tendency for the given height data:\n",
    "[178,177,176,177,178.2,178,175,179,180,175,178.9,176.2,177,172.5,178,176.5]"
   ]
  },
  {
   "cell_type": "code",
   "execution_count": 4,
   "id": "1608f0bf-a611-489c-8220-227b01423eeb",
   "metadata": {},
   "outputs": [],
   "source": [
    "l = [178,177,176,177,178.2,178,175,179,180,175,178.9,176.2,177,172.5,178,176.5]\n"
   ]
  },
  {
   "cell_type": "code",
   "execution_count": 8,
   "id": "84b7f1f7-dc6d-41d8-8dce-22ec6206d57f",
   "metadata": {},
   "outputs": [
    {
     "data": {
      "text/plain": [
       "177.01875"
      ]
     },
     "execution_count": 8,
     "metadata": {},
     "output_type": "execute_result"
    }
   ],
   "source": [
    "import numpy as np\n",
    "\n",
    "np.mean(l)"
   ]
  },
  {
   "cell_type": "code",
   "execution_count": 9,
   "id": "3c79f41a-66ca-4049-ab19-ac6c7f785022",
   "metadata": {},
   "outputs": [
    {
     "data": {
      "text/plain": [
       "177.0"
      ]
     },
     "execution_count": 9,
     "metadata": {},
     "output_type": "execute_result"
    }
   ],
   "source": [
    "np.median(l)"
   ]
  },
  {
   "cell_type": "code",
   "execution_count": 20,
   "id": "58f3716e-416d-4128-81c8-723dc184b0a1",
   "metadata": {},
   "outputs": [],
   "source": [
    "from scipy import stats"
   ]
  },
  {
   "cell_type": "code",
   "execution_count": 21,
   "id": "3d22b2dc-1ffc-4eab-89ce-515b521680fa",
   "metadata": {},
   "outputs": [
    {
     "name": "stderr",
     "output_type": "stream",
     "text": [
      "/tmp/ipykernel_572/2919890712.py:1: FutureWarning: Unlike other reduction functions (e.g. `skew`, `kurtosis`), the default behavior of `mode` typically preserves the axis it acts along. In SciPy 1.11.0, this behavior will change: the default value of `keepdims` will become False, the `axis` over which the statistic is taken will be eliminated, and the value None will no longer be accepted. Set `keepdims` to True or False to avoid this warning.\n",
      "  stats.mode(l)\n"
     ]
    },
    {
     "data": {
      "text/plain": [
       "ModeResult(mode=array([177.]), count=array([3]))"
      ]
     },
     "execution_count": 21,
     "metadata": {},
     "output_type": "execute_result"
    }
   ],
   "source": [
    "stats.mode(l)"
   ]
  },
  {
   "cell_type": "markdown",
   "id": "e370ceb3-26de-4284-8bc7-af7b227e277e",
   "metadata": {},
   "source": [
    "Q4. Find the standard deviation for the given data:\n",
    "[178,177,176,177,178.2,178,175,179,180,175,178.9,176.2,177,172.5,178,176.5]"
   ]
  },
  {
   "cell_type": "code",
   "execution_count": 22,
   "id": "15c3773f-392a-487b-95eb-87316b5b9a52",
   "metadata": {},
   "outputs": [],
   "source": [
    "l = [178,177,176,177,178.2,178,175,179,180,175,178.9,176.2,177,172.5,178,176.5]"
   ]
  },
  {
   "cell_type": "code",
   "execution_count": 23,
   "id": "cfcd29e2-68bc-4987-8f7b-1678ae3aea62",
   "metadata": {},
   "outputs": [
    {
     "data": {
      "text/plain": [
       "1.7885814036548633"
      ]
     },
     "execution_count": 23,
     "metadata": {},
     "output_type": "execute_result"
    }
   ],
   "source": [
    "np.std(l)"
   ]
  },
  {
   "cell_type": "markdown",
   "id": "64531dbc-37df-4171-97a5-18307b48acd5",
   "metadata": {},
   "source": [
    "Q5. How are measures of dispersion such as range, variance, and standard deviation used to describe\n",
    "the spread of a dataset? Provide an example."
   ]
  },
  {
   "cell_type": "code",
   "execution_count": null,
   "id": "14eae235-3cb0-4f20-86e5-3ea328cfa4ba",
   "metadata": {},
   "outputs": [],
   "source": [
    "variance : variance show that how many data point are vary from the mean\n",
    "\n",
    "standard deviation : std cosist how many data point far from the mean\n",
    "\n",
    "Range : It is calculated as the difference between the maximum and minimum values in the dataset.\n",
    "\n",
    "\n"
   ]
  },
  {
   "cell_type": "markdown",
   "id": "0cb617fc-0bd0-442b-9f0e-f03960385a54",
   "metadata": {},
   "source": []
  },
  {
   "cell_type": "markdown",
   "id": "cd699495-16a9-442f-81c2-d72cea608bbe",
   "metadata": {},
   "source": [
    "\n",
    "Q6. What is a Venn diagram?"
   ]
  },
  {
   "cell_type": "code",
   "execution_count": null,
   "id": "4833d2d1-b944-4728-85e8-e4d257812380",
   "metadata": {},
   "outputs": [],
   "source": [
    "A Venn diagram is a graphical representation used to illustrate the relationships between different sets. "
   ]
  },
  {
   "cell_type": "markdown",
   "id": "88950323-10de-4d9f-ae56-da8d794f9b08",
   "metadata": {},
   "source": [
    "Q7. For the two given sets A = (2,3,4,5,6,7) & B = (0,2,6,8,10). Find:\n",
    "(i) A B\n",
    "(ii) A ⋃ B"
   ]
  },
  {
   "cell_type": "code",
   "execution_count": null,
   "id": "a682290d-d70f-4c7a-b10f-3de8a58215ef",
   "metadata": {},
   "outputs": [],
   "source": [
    "A B = (2,6)\n",
    "\n",
    "A U B = (0,3,4,5,7,8,10)"
   ]
  },
  {
   "cell_type": "markdown",
   "id": "e867d04f-b11a-47f1-a63c-4a35ded69343",
   "metadata": {},
   "source": [
    "Q8. What do you understand about skewness in data?"
   ]
  },
  {
   "cell_type": "code",
   "execution_count": null,
   "id": "d22b6abc-8f5e-415a-9ce7-9f55fe46c851",
   "metadata": {},
   "outputs": [],
   "source": [
    "i have understand \n",
    "(i) when the data's mean median and mode are same the skewed is symentrical distribution\n",
    "(ii) when the data's mean <= median <= mode the skewed is left skewed distribution\n",
    "(iIi) when the data's mean >= median >= mode the skewed is right skewed distribution\n"
   ]
  },
  {
   "cell_type": "markdown",
   "id": "98410e56-8d53-47e1-b35a-251f6625c7b1",
   "metadata": {},
   "source": [
    "Q9. If a data is right skewed then what will be the position of median with respect to mean?"
   ]
  },
  {
   "cell_type": "code",
   "execution_count": null,
   "id": "fc090bff-c262-40e8-a387-c3513706909c",
   "metadata": {},
   "outputs": [],
   "source": [
    "position of mean >= median\n",
    "\n",
    "median is smaller or qual to mean"
   ]
  },
  {
   "cell_type": "markdown",
   "id": "43e69abc-ef94-4a35-857d-fe1550933ba4",
   "metadata": {},
   "source": [
    "Q10. Explain the difference between covariance and correlation. How are these measures used in\n",
    "statistical analysis?"
   ]
  },
  {
   "cell_type": "code",
   "execution_count": null,
   "id": "6711d45a-7a45-4efb-8eb1-509032afe7c7",
   "metadata": {},
   "outputs": [],
   "source": [
    "covariance and corelation means when you have more than 1 or 2 numeric data \n",
    "example :\n",
    "    x and y\n",
    "    \n",
    "    when x is increase then y is increases or decrease \n",
    "    \n",
    "    that is called covariance and corelation"
   ]
  },
  {
   "cell_type": "markdown",
   "id": "ddc957fc-a940-4b33-941b-55cf25482ff8",
   "metadata": {},
   "source": [
    "Q11. What is the formula for calculating the sample mean? Provide an example calculation for a\n",
    "dataset."
   ]
  },
  {
   "cell_type": "code",
   "execution_count": null,
   "id": "419fbc4a-541c-4a62-b60d-b2f277535cd7",
   "metadata": {},
   "outputs": [],
   "source": [
    "formula of calculating the sample mean \n",
    "\n",
    "x = Exi/n\n",
    "\n",
    "Example :\n",
    "    \n",
    "xi = [1,2,3,4,5]\n",
    "\n",
    "x= 15 / 5 \n",
    "x = 3"
   ]
  },
  {
   "cell_type": "markdown",
   "id": "bb92e21e-cdd3-467b-8083-79da4c08b13d",
   "metadata": {},
   "source": [
    "Q12. For a normal distribution data what is the relationship between its measure of central tendency?"
   ]
  },
  {
   "cell_type": "code",
   "execution_count": null,
   "id": "e6922a26-9a0f-4816-9211-2349f365c766",
   "metadata": {},
   "outputs": [],
   "source": [
    "\n",
    "For a normal distribution, the measures of central tendency—mean, median, and mode—are all equal."
   ]
  },
  {
   "cell_type": "markdown",
   "id": "dee7c352-b77a-4747-b9bc-521c9c5b6365",
   "metadata": {},
   "source": [
    "Q13. How is covariance different from correlation?"
   ]
  },
  {
   "cell_type": "code",
   "execution_count": null,
   "id": "5c10c01f-33cc-4501-a87e-4946b9c7ba21",
   "metadata": {},
   "outputs": [],
   "source": [
    "covariance :\n",
    "    it measure the degree of two varibale \n",
    "    when one varibale is increases then second varibale is increases that means positive covariance\n",
    "\n",
    "corelation : \n",
    "    it measure of the strength and direction of the linear relationship between two variables.\n",
    "    number is close to 0 that show negative corelation\n",
    "    number is close to 1 that show positive corelation"
   ]
  },
  {
   "cell_type": "markdown",
   "id": "a5a9e245-4ca0-4013-9d26-cacb2c0a1a37",
   "metadata": {},
   "source": [
    "Q14. How do outliers affect measures of central tendency and dispersion? Provide an example."
   ]
  },
  {
   "cell_type": "code",
   "execution_count": null,
   "id": "3bf97163-e5b6-4a90-8713-7569dac79d5e",
   "metadata": {},
   "outputs": [],
   "source": []
  },
  {
   "cell_type": "code",
   "execution_count": null,
   "id": "11ac2902-03c4-40ef-bed7-464470584ffd",
   "metadata": {},
   "outputs": [],
   "source": []
  },
  {
   "cell_type": "code",
   "execution_count": null,
   "id": "d443401e-d4ad-4887-a1b0-559bc294db11",
   "metadata": {},
   "outputs": [],
   "source": []
  },
  {
   "cell_type": "code",
   "execution_count": null,
   "id": "67ea70e9-9816-44fa-883b-63102d5c25be",
   "metadata": {},
   "outputs": [],
   "source": []
  }
 ],
 "metadata": {
  "kernelspec": {
   "display_name": "Python 3 (ipykernel)",
   "language": "python",
   "name": "python3"
  },
  "language_info": {
   "codemirror_mode": {
    "name": "ipython",
    "version": 3
   },
   "file_extension": ".py",
   "mimetype": "text/x-python",
   "name": "python",
   "nbconvert_exporter": "python",
   "pygments_lexer": "ipython3",
   "version": "3.10.8"
  }
 },
 "nbformat": 4,
 "nbformat_minor": 5
}
